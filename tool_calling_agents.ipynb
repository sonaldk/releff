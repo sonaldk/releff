{
  "cells": [
    {
      "cell_type": "markdown",
      "metadata": {
        "id": "view-in-github",
        "colab_type": "text"
      },
      "source": [
        "<a href=\"https://colab.research.google.com/github/sonaldk/releff/blob/Agent/tool_calling_agents.ipynb\" target=\"_parent\"><img src=\"https://colab.research.google.com/assets/colab-badge.svg\" alt=\"Open In Colab\"/></a>"
      ]
    },
    {
      "cell_type": "markdown",
      "metadata": {
        "id": "Pi9CF0391ARI"
      },
      "source": [
        "# Writing actions as code snippets or JSON blobs\n",
        "\n",
        "This notebook is part of the [Hugging Face Agents Course](https://www.hf.co/learn/agents-course), a free Course from beginner to expert, where you learn to build Agents.\n",
        "\n",
        "![Agents course share](https://huggingface.co/datasets/agents-course/course-images/resolve/main/en/communication/share.png)"
      ]
    },
    {
      "cell_type": "markdown",
      "metadata": {
        "id": "9gsYky7F1GzT"
      },
      "source": [
        "## Let's install the dependencies and login to our HF account to access the Inference API\n",
        "\n",
        "If you haven't installed `smolagents` yet, you can do so by running the following command:"
      ]
    },
    {
      "cell_type": "code",
      "execution_count": 3,
      "metadata": {
        "id": "MoFopncp0pnJ",
        "colab": {
          "base_uri": "https://localhost:8080/"
        },
        "outputId": "52ae62c8-7e6c-4797-92c0-40cc98cf8585"
      },
      "outputs": [
        {
          "output_type": "stream",
          "name": "stdout",
          "text": [
            "Collecting smolagents\n",
            "  Downloading smolagents-1.19.0-py3-none-any.whl.metadata (16 kB)\n",
            "Requirement already satisfied: huggingface-hub>=0.31.2 in /usr/local/lib/python3.11/dist-packages (from smolagents) (0.33.0)\n",
            "Requirement already satisfied: requests>=2.32.3 in /usr/local/lib/python3.11/dist-packages (from smolagents) (2.32.3)\n",
            "Requirement already satisfied: rich>=13.9.4 in /usr/local/lib/python3.11/dist-packages (from smolagents) (13.9.4)\n",
            "Requirement already satisfied: jinja2>=3.1.4 in /usr/local/lib/python3.11/dist-packages (from smolagents) (3.1.6)\n",
            "Requirement already satisfied: pillow>=10.0.1 in /usr/local/lib/python3.11/dist-packages (from smolagents) (11.2.1)\n",
            "Collecting python-dotenv (from smolagents)\n",
            "  Downloading python_dotenv-1.1.1-py3-none-any.whl.metadata (24 kB)\n",
            "Requirement already satisfied: filelock in /usr/local/lib/python3.11/dist-packages (from huggingface-hub>=0.31.2->smolagents) (3.18.0)\n",
            "Requirement already satisfied: fsspec>=2023.5.0 in /usr/local/lib/python3.11/dist-packages (from huggingface-hub>=0.31.2->smolagents) (2025.3.2)\n",
            "Requirement already satisfied: packaging>=20.9 in /usr/local/lib/python3.11/dist-packages (from huggingface-hub>=0.31.2->smolagents) (24.2)\n",
            "Requirement already satisfied: pyyaml>=5.1 in /usr/local/lib/python3.11/dist-packages (from huggingface-hub>=0.31.2->smolagents) (6.0.2)\n",
            "Requirement already satisfied: tqdm>=4.42.1 in /usr/local/lib/python3.11/dist-packages (from huggingface-hub>=0.31.2->smolagents) (4.67.1)\n",
            "Requirement already satisfied: typing-extensions>=3.7.4.3 in /usr/local/lib/python3.11/dist-packages (from huggingface-hub>=0.31.2->smolagents) (4.14.0)\n",
            "Requirement already satisfied: hf-xet<2.0.0,>=1.1.2 in /usr/local/lib/python3.11/dist-packages (from huggingface-hub>=0.31.2->smolagents) (1.1.5)\n",
            "Requirement already satisfied: MarkupSafe>=2.0 in /usr/local/lib/python3.11/dist-packages (from jinja2>=3.1.4->smolagents) (3.0.2)\n",
            "Requirement already satisfied: charset-normalizer<4,>=2 in /usr/local/lib/python3.11/dist-packages (from requests>=2.32.3->smolagents) (3.4.2)\n",
            "Requirement already satisfied: idna<4,>=2.5 in /usr/local/lib/python3.11/dist-packages (from requests>=2.32.3->smolagents) (3.10)\n",
            "Requirement already satisfied: urllib3<3,>=1.21.1 in /usr/local/lib/python3.11/dist-packages (from requests>=2.32.3->smolagents) (2.4.0)\n",
            "Requirement already satisfied: certifi>=2017.4.17 in /usr/local/lib/python3.11/dist-packages (from requests>=2.32.3->smolagents) (2025.6.15)\n",
            "Requirement already satisfied: markdown-it-py>=2.2.0 in /usr/local/lib/python3.11/dist-packages (from rich>=13.9.4->smolagents) (3.0.0)\n",
            "Requirement already satisfied: pygments<3.0.0,>=2.13.0 in /usr/local/lib/python3.11/dist-packages (from rich>=13.9.4->smolagents) (2.19.2)\n",
            "Requirement already satisfied: mdurl~=0.1 in /usr/local/lib/python3.11/dist-packages (from markdown-it-py>=2.2.0->rich>=13.9.4->smolagents) (0.1.2)\n",
            "Downloading smolagents-1.19.0-py3-none-any.whl (138 kB)\n",
            "\u001b[2K   \u001b[90m━━━━━━━━━━━━━━━━━━━━━━━━━━━━━━━━━━━━━━━━\u001b[0m \u001b[32m138.2/138.2 kB\u001b[0m \u001b[31m5.6 MB/s\u001b[0m eta \u001b[36m0:00:00\u001b[0m\n",
            "\u001b[?25hDownloading python_dotenv-1.1.1-py3-none-any.whl (20 kB)\n",
            "Installing collected packages: python-dotenv, smolagents\n",
            "Successfully installed python-dotenv-1.1.1 smolagents-1.19.0\n"
          ]
        }
      ],
      "source": [
        "!pip install smolagents -U"
      ]
    },
    {
      "cell_type": "markdown",
      "metadata": {
        "id": "cH-4W1GhYL4T"
      },
      "source": [
        "Let's also login to the Hugging Face Hub to have access to the Inference API."
      ]
    },
    {
      "cell_type": "code",
      "execution_count": 1,
      "metadata": {
        "id": "TFTc-ry70y1f",
        "colab": {
          "base_uri": "https://localhost:8080/",
          "height": 17,
          "referenced_widgets": [
            "5c52930e835e4834837949fdf03548df",
            "1a5e499773e549ca8e87ff0fb5ff5d70",
            "b20626357b2744e9a2eb070176557f1a",
            "036f7f72f9d44a69ac40ea36ec8cf11f",
            "3a2fd583b513450c81a6aa144572fd41",
            "582d736730b24013967bf701f016dfc1",
            "8f5835529db4472396d5e3ebf6965e7d",
            "c31433287a9348d48fb00790647b6e27",
            "f4004075082648fc8a81e5ebd94c34dc",
            "e8d0f14d9bb844de8b3c9a80d2d241e9",
            "f0a027eba8b440b0aee6f985d8785ad4",
            "3b63a862f46041288dcc5bf1be733491",
            "b0dcaee938b244efaf6419f12696b987",
            "b5c96d523d484cc8b6d63630ee9bce0e",
            "691abc1a3c874caeb8e3cc821edca4e7",
            "c284fb0bb1ab45ecb6d9be39283fff98",
            "33e94ba54bc047f09bc38bdc3a09e10f",
            "1b16b2fa319c4cd7bfdfd851d33cdde7",
            "62bb85ed1fc241378853443be9adb05d",
            "efeca01f035c4727be91ac0fbafb8b04"
          ]
        },
        "outputId": "eb25eb56-5944-47ad-8011-8b9ae54fc97a"
      },
      "outputs": [
        {
          "output_type": "display_data",
          "data": {
            "text/plain": [
              "VBox(children=(HTML(value='<center> <img\\nsrc=https://huggingface.co/front/assets/huggingface_logo-noborder.sv…"
            ],
            "application/vnd.jupyter.widget-view+json": {
              "version_major": 2,
              "version_minor": 0,
              "model_id": "5c52930e835e4834837949fdf03548df"
            }
          },
          "metadata": {}
        }
      ],
      "source": [
        "from huggingface_hub import notebook_login\n",
        "\n",
        "notebook_login()"
      ]
    },
    {
      "cell_type": "markdown",
      "metadata": {
        "id": "ekKxaZrd1HlB"
      },
      "source": [
        "## Selecting a Playlist for the Party Using `smolagents` and a `ToolCallingAgent`\n",
        "\n",
        "Let's revisit the previous example where Alfred started party preparations, but this time we'll use a `ToolCallingAgent` to highlight the difference. We'll build an agent that can search the web using DuckDuckGo, just like in our Code Agent example. The only difference is the agent type - the framework handles everything else:"
      ]
    },
    {
      "cell_type": "code",
      "execution_count": 7,
      "metadata": {
        "colab": {
          "base_uri": "https://localhost:8080/",
          "height": 1000
        },
        "id": "6IInDOUN01sP",
        "outputId": "178c564b-a2b3-42c7-ca2e-804ed95aa875"
      },
      "outputs": [
        {
          "output_type": "display_data",
          "data": {
            "text/plain": [
              "\u001b[38;2;212;183;2m╭─\u001b[0m\u001b[38;2;212;183;2m───────────────────────────────────────────────────\u001b[0m\u001b[38;2;212;183;2m \u001b[0m\u001b[1;38;2;212;183;2mNew run\u001b[0m\u001b[38;2;212;183;2m \u001b[0m\u001b[38;2;212;183;2m───────────────────────────────────────────────────\u001b[0m\u001b[38;2;212;183;2m─╮\u001b[0m\n",
              "\u001b[38;2;212;183;2m│\u001b[0m                                                                                                                 \u001b[38;2;212;183;2m│\u001b[0m\n",
              "\u001b[38;2;212;183;2m│\u001b[0m \u001b[1mSearch for the best music recommendations for a party at the Wayne's mansion.\u001b[0m                                   \u001b[38;2;212;183;2m│\u001b[0m\n",
              "\u001b[38;2;212;183;2m│\u001b[0m                                                                                                                 \u001b[38;2;212;183;2m│\u001b[0m\n",
              "\u001b[38;2;212;183;2m╰─\u001b[0m\u001b[38;2;212;183;2m InferenceClientModel - Qwen/Qwen2.5-Coder-32B-Instruct \u001b[0m\u001b[38;2;212;183;2m───────────────────────────────────────────────────────\u001b[0m\u001b[38;2;212;183;2m─╯\u001b[0m\n"
            ],
            "text/html": [
              "<pre style=\"white-space:pre;overflow-x:auto;line-height:normal;font-family:Menlo,'DejaVu Sans Mono',consolas,'Courier New',monospace\"><span style=\"color: #d4b702; text-decoration-color: #d4b702\">╭──────────────────────────────────────────────────── </span><span style=\"color: #d4b702; text-decoration-color: #d4b702; font-weight: bold\">New run</span><span style=\"color: #d4b702; text-decoration-color: #d4b702\"> ────────────────────────────────────────────────────╮</span>\n",
              "<span style=\"color: #d4b702; text-decoration-color: #d4b702\">│</span>                                                                                                                 <span style=\"color: #d4b702; text-decoration-color: #d4b702\">│</span>\n",
              "<span style=\"color: #d4b702; text-decoration-color: #d4b702\">│</span> <span style=\"font-weight: bold\">Search for the best music recommendations for a party at the Wayne's mansion.</span>                                   <span style=\"color: #d4b702; text-decoration-color: #d4b702\">│</span>\n",
              "<span style=\"color: #d4b702; text-decoration-color: #d4b702\">│</span>                                                                                                                 <span style=\"color: #d4b702; text-decoration-color: #d4b702\">│</span>\n",
              "<span style=\"color: #d4b702; text-decoration-color: #d4b702\">╰─ InferenceClientModel - Qwen/Qwen2.5-Coder-32B-Instruct ────────────────────────────────────────────────────────╯</span>\n",
              "</pre>\n"
            ]
          },
          "metadata": {}
        },
        {
          "output_type": "display_data",
          "data": {
            "text/plain": [
              "\u001b[38;2;212;183;2m━━━━━━━━━━━━━━━━━━━━━━━━━━━━━━━━━━━━━━━━━━━━━━━━━━━━━ \u001b[0m\u001b[1mStep \u001b[0m\u001b[1;36m1\u001b[0m\u001b[38;2;212;183;2m ━━━━━━━━━━━━━━━━━━━━━━━━━━━━━━━━━━━━━━━━━━━━━━━━━━━━━━\u001b[0m\n"
            ],
            "text/html": [
              "<pre style=\"white-space:pre;overflow-x:auto;line-height:normal;font-family:Menlo,'DejaVu Sans Mono',consolas,'Courier New',monospace\"><span style=\"color: #d4b702; text-decoration-color: #d4b702\">━━━━━━━━━━━━━━━━━━━━━━━━━━━━━━━━━━━━━━━━━━━━━━━━━━━━━ </span><span style=\"font-weight: bold\">Step </span><span style=\"color: #008080; text-decoration-color: #008080; font-weight: bold\">1</span><span style=\"color: #d4b702; text-decoration-color: #d4b702\"> ━━━━━━━━━━━━━━━━━━━━━━━━━━━━━━━━━━━━━━━━━━━━━━━━━━━━━━</span>\n",
              "</pre>\n"
            ]
          },
          "metadata": {}
        },
        {
          "output_type": "display_data",
          "data": {
            "text/plain": [
              "╭─────────────────────────────────────────────────────────────────────────────────────────────────────────────────╮\n",
              "│ Calling tool: 'web_search' with arguments: {'query': \"Best music recommendations for a party at Wayne's         │\n",
              "│ mansion\"}                                                                                                       │\n",
              "╰─────────────────────────────────────────────────────────────────────────────────────────────────────────────────╯\n"
            ],
            "text/html": [
              "<pre style=\"white-space:pre;overflow-x:auto;line-height:normal;font-family:Menlo,'DejaVu Sans Mono',consolas,'Courier New',monospace\">╭─────────────────────────────────────────────────────────────────────────────────────────────────────────────────╮\n",
              "│ Calling tool: 'web_search' with arguments: {'query': \"Best music recommendations for a party at Wayne's         │\n",
              "│ mansion\"}                                                                                                       │\n",
              "╰─────────────────────────────────────────────────────────────────────────────────────────────────────────────────╯\n",
              "</pre>\n"
            ]
          },
          "metadata": {}
        },
        {
          "output_type": "display_data",
          "data": {
            "text/plain": [
              "\u001b[1;31mError executing tool \u001b[0m\u001b[32m'web_search'\u001b[0m\u001b[1;31m with arguments \u001b[0m\u001b[1;31m{\u001b[0m\u001b[32m\"query\"\u001b[0m\u001b[1;31m: \u001b[0m\u001b[32m\"Best music recommendations for a party at Wayne's \u001b[0m\n",
              "\u001b[32mmansion\"\u001b[0m\u001b[1;31m}\u001b[0m\u001b[1;31m: DuckDuckGoSearchException: \u001b[0m\u001b[4;94mhttps://lite.duckduckgo.com/lite/\u001b[0m\u001b[1;31m \u001b[0m\u001b[1;36m202\u001b[0m\u001b[1;31m Ratelimit\u001b[0m\n",
              "\u001b[1;31mPlease try again or use another tool\u001b[0m\n"
            ],
            "text/html": [
              "<pre style=\"white-space:pre;overflow-x:auto;line-height:normal;font-family:Menlo,'DejaVu Sans Mono',consolas,'Courier New',monospace\"><span style=\"color: #800000; text-decoration-color: #800000; font-weight: bold\">Error executing tool </span><span style=\"color: #008000; text-decoration-color: #008000\">'web_search'</span><span style=\"color: #800000; text-decoration-color: #800000; font-weight: bold\"> with arguments {</span><span style=\"color: #008000; text-decoration-color: #008000\">\"query\"</span><span style=\"color: #800000; text-decoration-color: #800000; font-weight: bold\">: </span><span style=\"color: #008000; text-decoration-color: #008000\">\"Best music recommendations for a party at Wayne's </span>\n",
              "<span style=\"color: #008000; text-decoration-color: #008000\">mansion\"</span><span style=\"color: #800000; text-decoration-color: #800000; font-weight: bold\">}: DuckDuckGoSearchException: </span><span style=\"color: #0000ff; text-decoration-color: #0000ff; text-decoration: underline\">https://lite.duckduckgo.com/lite/</span><span style=\"color: #800000; text-decoration-color: #800000; font-weight: bold\"> </span><span style=\"color: #008080; text-decoration-color: #008080; font-weight: bold\">202</span><span style=\"color: #800000; text-decoration-color: #800000; font-weight: bold\"> Ratelimit</span>\n",
              "<span style=\"color: #800000; text-decoration-color: #800000; font-weight: bold\">Please try again or use another tool</span>\n",
              "</pre>\n"
            ]
          },
          "metadata": {}
        },
        {
          "output_type": "display_data",
          "data": {
            "text/plain": [
              "\u001b[2m[Step 1: Duration 1.57 seconds| Input tokens: 1,138 | Output tokens: 28]\u001b[0m\n"
            ],
            "text/html": [
              "<pre style=\"white-space:pre;overflow-x:auto;line-height:normal;font-family:Menlo,'DejaVu Sans Mono',consolas,'Courier New',monospace\"><span style=\"color: #7f7f7f; text-decoration-color: #7f7f7f\">[Step 1: Duration 1.57 seconds| Input tokens: 1,138 | Output tokens: 28]</span>\n",
              "</pre>\n"
            ]
          },
          "metadata": {}
        },
        {
          "output_type": "display_data",
          "data": {
            "text/plain": [
              "\u001b[38;2;212;183;2m━━━━━━━━━━━━━━━━━━━━━━━━━━━━━━━━━━━━━━━━━━━━━━━━━━━━━ \u001b[0m\u001b[1mStep \u001b[0m\u001b[1;36m2\u001b[0m\u001b[38;2;212;183;2m ━━━━━━━━━━━━━━━━━━━━━━━━━━━━━━━━━━━━━━━━━━━━━━━━━━━━━━\u001b[0m\n"
            ],
            "text/html": [
              "<pre style=\"white-space:pre;overflow-x:auto;line-height:normal;font-family:Menlo,'DejaVu Sans Mono',consolas,'Courier New',monospace\"><span style=\"color: #d4b702; text-decoration-color: #d4b702\">━━━━━━━━━━━━━━━━━━━━━━━━━━━━━━━━━━━━━━━━━━━━━━━━━━━━━ </span><span style=\"font-weight: bold\">Step </span><span style=\"color: #008080; text-decoration-color: #008080; font-weight: bold\">2</span><span style=\"color: #d4b702; text-decoration-color: #d4b702\"> ━━━━━━━━━━━━━━━━━━━━━━━━━━━━━━━━━━━━━━━━━━━━━━━━━━━━━━</span>\n",
              "</pre>\n"
            ]
          },
          "metadata": {}
        },
        {
          "output_type": "display_data",
          "data": {
            "text/plain": [
              "╭─────────────────────────────────────────────────────────────────────────────────────────────────────────────────╮\n",
              "│ Calling tool: 'web_search' with arguments: {'query': 'Best music recommendations for a party at Wayne Manor'}   │\n",
              "╰─────────────────────────────────────────────────────────────────────────────────────────────────────────────────╯\n"
            ],
            "text/html": [
              "<pre style=\"white-space:pre;overflow-x:auto;line-height:normal;font-family:Menlo,'DejaVu Sans Mono',consolas,'Courier New',monospace\">╭─────────────────────────────────────────────────────────────────────────────────────────────────────────────────╮\n",
              "│ Calling tool: 'web_search' with arguments: {'query': 'Best music recommendations for a party at Wayne Manor'}   │\n",
              "╰─────────────────────────────────────────────────────────────────────────────────────────────────────────────────╯\n",
              "</pre>\n"
            ]
          },
          "metadata": {}
        },
        {
          "output_type": "display_data",
          "data": {
            "text/plain": [
              "Observations: ## Search Results\n",
              "\n",
              "|late nights in the wayne manor | a bruce wayne rock/blues playlist\u001b[1m]\u001b[0m\u001b[1m(\u001b[0m\u001b[4;94mhttps://m.youtube.com/watch?\u001b[0m\u001b[4;94mv\u001b[0m\u001b[4;94m=\u001b[0m\u001b[4;94moOdHCjj3jn4\u001b[0m\u001b[4;94m)\u001b[0m\n",
              "these are songs that bruce wayne listens to while wandering the halls of the great wayne manor.find this playlist \n",
              "on my spotify: \u001b[4;94mhttps://open.spotify.com/use...\u001b[0m\n",
              "\n",
              "|\u001b[1;36m45\u001b[0m Songs That Get Your Event Guests on the Dance Floor Every \n",
              "Time\u001b[1m]\u001b[0m\u001b[1m(\u001b[0m\u001b[4;94mhttps://hub.theeventplannerexpo.com/entertainment/35-songs-that-get-your-event-guests-on-the-dance-floor-ever\u001b[0m\n",
              "\u001b[4;94my-time\u001b[0m\u001b[4;94m)\u001b[0m\n",
              "From there, the DJ will amp up the tunes and inspire dancing. Top Songs That Work Every Time When you work with \n",
              "your event services providers for music before the event, drill down on some of the best dance-floor songs to have \n",
              "on hand for motivating a dance crowd. You'll know your client's event best, including music genre preferences and \n",
              "\u001b[33m...\u001b[0m\n",
              "\n",
              "|Wedding, Event, Party Bands and DJ in New Jersey and New \n",
              "York\u001b[1m]\u001b[0m\u001b[1m(\u001b[0m\u001b[4;94mhttps://esteemlivemusic.com/2011/01/04/top-200-requested-dj-songs/\u001b[0m\u001b[4;94m)\u001b[0m\n",
              "Wedding, Event, Party Bands and DJ in New Jersey and New York Top \u001b[1;36m200\u001b[0m Requested DJ Songs Need some song suggestions\n",
              "for your Esteem DJ? Our talented and energetic DJs can play anything! Here are some ideas from the top \u001b[1;36m200\u001b[0m+ most \n",
              "requested songs from Esteem DJs. \u001b[1;36m1\u001b[0m Black Eyed Peas I Gotta Feeling \u001b[1;36m2\u001b[0m Journey Don't Stop Believin' \u001b[1;36m3\u001b[0m Lady Gaga Feat.\n",
              "\n",
              "|Best Songs To Party: DJ's Ultimate Party Songs Playlist\u001b[1m]\u001b[0m\u001b[1m(\u001b[0m\u001b[4;94mhttps://top40weekly.com/best-songs-to-party/\u001b[0m\u001b[4;94m)\u001b[0m\n",
              "Planning a celebration? Don't forget the music! We've compiled the best songs to party that are sure to get \n",
              "everyone in the mood to dance and have a good time.\n",
              "\n",
              "|Must-Have Playlists for Different Event \n",
              "Types\u001b[1m]\u001b[0m\u001b[1m(\u001b[0m\u001b[4;94mhttps://www.limelightsent.com/must-have-playlists-for-different-event-types/\u001b[0m\u001b[4;94m)\u001b[0m\n",
              "A perfectly curated event playlist has the power to create an unforgettable atmosphere at any event. Whether it's \n",
              "the soft strumming of a guitar during a wedding ceremony, the subtle background jazz at a corporate gala, or the \n",
              "booming beats at a birthday bash, music sets the tone and enriches the experience for all attendees. This blog will\n",
              "explore the art of crafting must-have playlists \u001b[33m...\u001b[0m\n",
              "\n",
              "|Song Lists to help you plan the perfect music for your event!\u001b[1m]\u001b[0m\u001b[1m(\u001b[0m\u001b[4;94mhttp://pianistforparties.com/songs/\u001b[0m\u001b[4;94m)\u001b[0m\n",
              "Song ideas to help you plan music for your wedding, corporate event or memorial service, by Event Pianist, Sharon \n",
              "Planer.\n",
              "\n",
              "|Wayne Manor Buffet Mix by YUMMiR - SoundCloud\u001b[1m]\u001b[0m\u001b[1m(\u001b[0m\u001b[4;94mhttps://soundcloud.com/yummir/wayne-manor-buffet-mix\u001b[0m\u001b[4;94m)\u001b[0m\n",
              "Stream Wayne Manor Buffet Mix by YUMMiR on desktop and mobile. Play over \u001b[1;36m320\u001b[0m million tracks for free on SoundCloud.\n",
              "\n",
              "|Wayne Manor Party - YouTube\u001b[1m]\u001b[0m\u001b[1m(\u001b[0m\u001b[4;94mhttps://www.youtube.com/playlist?\u001b[0m\u001b[4;94mlist\u001b[0m\u001b[4;94m=\u001b[0m\u001b[4;94mPL675720511696A8F5\u001b[0m\u001b[4;94m)\u001b[0m\n",
              "Share your videos with friends, family, and the world\n",
              "\n",
              "|Music | Wayne Manor\u001b[1m]\u001b[0m\u001b[1m(\u001b[0m\u001b[4;94mhttps://waynemanor.bandcamp.com/\u001b[0m\u001b[4;94m)\u001b[0m\n",
              "Wayne Manor. Terre Haute, Indiana. For those of you who don't know Wayne Manor, take a listen to his music. He puts\n",
              "all of himself in every track. This is a reboot for Hip Hop. Bringing back story telling, complex lyrics, and the \n",
              "fight against social and financial injustice. It's time to take our genre back.\n",
              "\n",
              "|Nailed It! | Wayne Manor\u001b[1m]\u001b[0m\u001b[1m(\u001b[0m\u001b[4;94mhttps://waynemanormusic.bandcamp.com/\u001b[0m\u001b[4;94m)\u001b[0m\n",
              "Nailed It! by Wayne Manor, released \u001b[1;36m17\u001b[0m October \u001b[1;36m2015\u001b[0m \u001b[1;36m1\u001b[0m. West End \u001b[1;36m2\u001b[0m. Bruce Wayne \u001b[1;36m3\u001b[0m. Flight \u001b[1;36m4\u001b[0m. Hammers of Justice \u001b[1;36m5\u001b[0m. \n",
              "The Road \u001b[1;36m6\u001b[0m. Unwritten \u001b[1;36m7\u001b[0m. Open Door \u001b[1;36m8\u001b[0m. Seedless \u001b[1;36m9\u001b[0m. In a Hurry\n"
            ],
            "text/html": [
              "<pre style=\"white-space:pre;overflow-x:auto;line-height:normal;font-family:Menlo,'DejaVu Sans Mono',consolas,'Courier New',monospace\">Observations: ## Search Results\n",
              "\n",
              "|late nights in the wayne manor | a bruce wayne rock/blues playlist<span style=\"font-weight: bold\">](</span><span style=\"color: #0000ff; text-decoration-color: #0000ff; text-decoration: underline\">https://m.youtube.com/watch?v=oOdHCjj3jn4)</span>\n",
              "these are songs that bruce wayne listens to while wandering the halls of the great wayne manor.find this playlist \n",
              "on my spotify: <span style=\"color: #0000ff; text-decoration-color: #0000ff; text-decoration: underline\">https://open.spotify.com/use...</span>\n",
              "\n",
              "|<span style=\"color: #008080; text-decoration-color: #008080; font-weight: bold\">45</span> Songs That Get Your Event Guests on the Dance Floor Every \n",
              "Time<span style=\"font-weight: bold\">](</span><span style=\"color: #0000ff; text-decoration-color: #0000ff; text-decoration: underline\">https://hub.theeventplannerexpo.com/entertainment/35-songs-that-get-your-event-guests-on-the-dance-floor-ever</span>\n",
              "<span style=\"color: #0000ff; text-decoration-color: #0000ff; text-decoration: underline\">y-time)</span>\n",
              "From there, the DJ will amp up the tunes and inspire dancing. Top Songs That Work Every Time When you work with \n",
              "your event services providers for music before the event, drill down on some of the best dance-floor songs to have \n",
              "on hand for motivating a dance crowd. You'll know your client's event best, including music genre preferences and \n",
              "<span style=\"color: #808000; text-decoration-color: #808000\">...</span>\n",
              "\n",
              "|Wedding, Event, Party Bands and DJ in New Jersey and New \n",
              "York<span style=\"font-weight: bold\">](</span><span style=\"color: #0000ff; text-decoration-color: #0000ff; text-decoration: underline\">https://esteemlivemusic.com/2011/01/04/top-200-requested-dj-songs/)</span>\n",
              "Wedding, Event, Party Bands and DJ in New Jersey and New York Top <span style=\"color: #008080; text-decoration-color: #008080; font-weight: bold\">200</span> Requested DJ Songs Need some song suggestions\n",
              "for your Esteem DJ? Our talented and energetic DJs can play anything! Here are some ideas from the top <span style=\"color: #008080; text-decoration-color: #008080; font-weight: bold\">200</span>+ most \n",
              "requested songs from Esteem DJs. <span style=\"color: #008080; text-decoration-color: #008080; font-weight: bold\">1</span> Black Eyed Peas I Gotta Feeling <span style=\"color: #008080; text-decoration-color: #008080; font-weight: bold\">2</span> Journey Don't Stop Believin' <span style=\"color: #008080; text-decoration-color: #008080; font-weight: bold\">3</span> Lady Gaga Feat.\n",
              "\n",
              "|Best Songs To Party: DJ's Ultimate Party Songs Playlist<span style=\"font-weight: bold\">](</span><span style=\"color: #0000ff; text-decoration-color: #0000ff; text-decoration: underline\">https://top40weekly.com/best-songs-to-party/)</span>\n",
              "Planning a celebration? Don't forget the music! We've compiled the best songs to party that are sure to get \n",
              "everyone in the mood to dance and have a good time.\n",
              "\n",
              "|Must-Have Playlists for Different Event \n",
              "Types<span style=\"font-weight: bold\">](</span><span style=\"color: #0000ff; text-decoration-color: #0000ff; text-decoration: underline\">https://www.limelightsent.com/must-have-playlists-for-different-event-types/)</span>\n",
              "A perfectly curated event playlist has the power to create an unforgettable atmosphere at any event. Whether it's \n",
              "the soft strumming of a guitar during a wedding ceremony, the subtle background jazz at a corporate gala, or the \n",
              "booming beats at a birthday bash, music sets the tone and enriches the experience for all attendees. This blog will\n",
              "explore the art of crafting must-have playlists <span style=\"color: #808000; text-decoration-color: #808000\">...</span>\n",
              "\n",
              "|Song Lists to help you plan the perfect music for your event!<span style=\"font-weight: bold\">](</span><span style=\"color: #0000ff; text-decoration-color: #0000ff; text-decoration: underline\">http://pianistforparties.com/songs/)</span>\n",
              "Song ideas to help you plan music for your wedding, corporate event or memorial service, by Event Pianist, Sharon \n",
              "Planer.\n",
              "\n",
              "|Wayne Manor Buffet Mix by YUMMiR - SoundCloud<span style=\"font-weight: bold\">](</span><span style=\"color: #0000ff; text-decoration-color: #0000ff; text-decoration: underline\">https://soundcloud.com/yummir/wayne-manor-buffet-mix)</span>\n",
              "Stream Wayne Manor Buffet Mix by YUMMiR on desktop and mobile. Play over <span style=\"color: #008080; text-decoration-color: #008080; font-weight: bold\">320</span> million tracks for free on SoundCloud.\n",
              "\n",
              "|Wayne Manor Party - YouTube<span style=\"font-weight: bold\">](</span><span style=\"color: #0000ff; text-decoration-color: #0000ff; text-decoration: underline\">https://www.youtube.com/playlist?list=PL675720511696A8F5)</span>\n",
              "Share your videos with friends, family, and the world\n",
              "\n",
              "|Music | Wayne Manor<span style=\"font-weight: bold\">](</span><span style=\"color: #0000ff; text-decoration-color: #0000ff; text-decoration: underline\">https://waynemanor.bandcamp.com/)</span>\n",
              "Wayne Manor. Terre Haute, Indiana. For those of you who don't know Wayne Manor, take a listen to his music. He puts\n",
              "all of himself in every track. This is a reboot for Hip Hop. Bringing back story telling, complex lyrics, and the \n",
              "fight against social and financial injustice. It's time to take our genre back.\n",
              "\n",
              "|Nailed It! | Wayne Manor<span style=\"font-weight: bold\">](</span><span style=\"color: #0000ff; text-decoration-color: #0000ff; text-decoration: underline\">https://waynemanormusic.bandcamp.com/)</span>\n",
              "Nailed It! by Wayne Manor, released <span style=\"color: #008080; text-decoration-color: #008080; font-weight: bold\">17</span> October <span style=\"color: #008080; text-decoration-color: #008080; font-weight: bold\">2015</span> <span style=\"color: #008080; text-decoration-color: #008080; font-weight: bold\">1</span>. West End <span style=\"color: #008080; text-decoration-color: #008080; font-weight: bold\">2</span>. Bruce Wayne <span style=\"color: #008080; text-decoration-color: #008080; font-weight: bold\">3</span>. Flight <span style=\"color: #008080; text-decoration-color: #008080; font-weight: bold\">4</span>. Hammers of Justice <span style=\"color: #008080; text-decoration-color: #008080; font-weight: bold\">5</span>. \n",
              "The Road <span style=\"color: #008080; text-decoration-color: #008080; font-weight: bold\">6</span>. Unwritten <span style=\"color: #008080; text-decoration-color: #008080; font-weight: bold\">7</span>. Open Door <span style=\"color: #008080; text-decoration-color: #008080; font-weight: bold\">8</span>. Seedless <span style=\"color: #008080; text-decoration-color: #008080; font-weight: bold\">9</span>. In a Hurry\n",
              "</pre>\n"
            ]
          },
          "metadata": {}
        },
        {
          "output_type": "display_data",
          "data": {
            "text/plain": [
              "\u001b[2m[Step 2: Duration 2.97 seconds| Input tokens: 2,374 | Output tokens: 55]\u001b[0m\n"
            ],
            "text/html": [
              "<pre style=\"white-space:pre;overflow-x:auto;line-height:normal;font-family:Menlo,'DejaVu Sans Mono',consolas,'Courier New',monospace\"><span style=\"color: #7f7f7f; text-decoration-color: #7f7f7f\">[Step 2: Duration 2.97 seconds| Input tokens: 2,374 | Output tokens: 55]</span>\n",
              "</pre>\n"
            ]
          },
          "metadata": {}
        },
        {
          "output_type": "display_data",
          "data": {
            "text/plain": [
              "\u001b[38;2;212;183;2m━━━━━━━━━━━━━━━━━━━━━━━━━━━━━━━━━━━━━━━━━━━━━━━━━━━━━ \u001b[0m\u001b[1mStep \u001b[0m\u001b[1;36m3\u001b[0m\u001b[38;2;212;183;2m ━━━━━━━━━━━━━━━━━━━━━━━━━━━━━━━━━━━━━━━━━━━━━━━━━━━━━━\u001b[0m\n"
            ],
            "text/html": [
              "<pre style=\"white-space:pre;overflow-x:auto;line-height:normal;font-family:Menlo,'DejaVu Sans Mono',consolas,'Courier New',monospace\"><span style=\"color: #d4b702; text-decoration-color: #d4b702\">━━━━━━━━━━━━━━━━━━━━━━━━━━━━━━━━━━━━━━━━━━━━━━━━━━━━━ </span><span style=\"font-weight: bold\">Step </span><span style=\"color: #008080; text-decoration-color: #008080; font-weight: bold\">3</span><span style=\"color: #d4b702; text-decoration-color: #d4b702\"> ━━━━━━━━━━━━━━━━━━━━━━━━━━━━━━━━━━━━━━━━━━━━━━━━━━━━━━</span>\n",
              "</pre>\n"
            ]
          },
          "metadata": {}
        },
        {
          "output_type": "display_data",
          "data": {
            "text/plain": [
              "╭─────────────────────────────────────────────────────────────────────────────────────────────────────────────────╮\n",
              "│ Calling tool: 'web_search' with arguments: {'query': 'Top party songs for large gatherings'}                    │\n",
              "╰─────────────────────────────────────────────────────────────────────────────────────────────────────────────────╯\n"
            ],
            "text/html": [
              "<pre style=\"white-space:pre;overflow-x:auto;line-height:normal;font-family:Menlo,'DejaVu Sans Mono',consolas,'Courier New',monospace\">╭─────────────────────────────────────────────────────────────────────────────────────────────────────────────────╮\n",
              "│ Calling tool: 'web_search' with arguments: {'query': 'Top party songs for large gatherings'}                    │\n",
              "╰─────────────────────────────────────────────────────────────────────────────────────────────────────────────────╯\n",
              "</pre>\n"
            ]
          },
          "metadata": {}
        },
        {
          "output_type": "display_data",
          "data": {
            "text/plain": [
              "Observations: ## Search Results\n",
              "\n",
              "|The \u001b[1;36m75\u001b[0m Best Party Songs That Will Get Everyone Dancing\u001b[1m]\u001b[0m\u001b[1m(\u001b[0m\u001b[4;94mhttps://www.gear4music.com/blog/best-party-songs/\u001b[0m\u001b[4;94m)\u001b[0m\n",
              "So, to keep things simple, we've compiled the best party songs of all time, from timeless classics to contemporary \n",
              "hits, giving you a diverse, family-friendly playlist that guarantees to bring a great vibe to your gathering.\n",
              "\n",
              "|\u001b[1;36m50\u001b[0m Dance Party Songs to Get People on Their Feet - \n",
              "LoveToKnow\u001b[1m]\u001b[0m\u001b[1m(\u001b[0m\u001b[4;94mhttps://www.lovetoknow.com/celebrations/parties/dance-party-song\u001b[0m\u001b[4;94m)\u001b[0m\n",
              "The perfect dance party song will get the whole crowd going. Play any of these songs that will turn up the party \n",
              "and get people dancing.\n",
              "\n",
              "|\u001b[1;36m40\u001b[0m Best Party Songs | Songs To Dance To, Ranked By Our Editors - Time \n",
              "Out\u001b[1m]\u001b[0m\u001b[1m(\u001b[0m\u001b[4;94mhttps://www.timeout.com/music/best-party-songs\u001b[0m\u001b[4;94m)\u001b[0m\n",
              "Looking for dance songs? We've got you covered. From Britney Spears to Diana Ross, Charli XCX to Peggy Gou, here \n",
              "are the best party songs ever written.\n",
              "\n",
              "|Best Songs To Party: DJ's Ultimate Party Songs Playlist\u001b[1m]\u001b[0m\u001b[1m(\u001b[0m\u001b[4;94mhttps://top40weekly.com/best-songs-to-party/\u001b[0m\u001b[4;94m)\u001b[0m\n",
              "Best Songs To Party: DJ's Ultimate Party Songs Playlist If you're looking for the ultimate playlist to get your \n",
              "party started, look no further than this best party songs playlist. Whether you're hosting a birthday bash, a \n",
              "backyard barbecue, or just a night in with friends, the right music can make all the difference.\n",
              "\n",
              "|\u001b[1;36m100\u001b[0m Best Party Songs: The Ultimate Party Playlist - Audio Captain\u001b[1m]\u001b[0m\u001b[1m(\u001b[0m\u001b[4;94mhttps://audiocaptain.com/best-party-songs/\u001b[0m\u001b[4;94m)\u001b[0m\n",
              "Best Party Songs: The Ultimate Party Playlist. Here's the \u001b[1;36m100\u001b[0m best party songs of all time you can use to create \n",
              "your ultimate party playlist in \u001b[1;36m2025\u001b[0m.\n",
              "\n",
              "|The \u001b[1;36m50\u001b[0m Best Music Playlists for Parties |\u001b[1;36m2025\u001b[0m\u001b[1m]\u001b[0m - Playlist \n",
              "Names\u001b[1m]\u001b[0m\u001b[1m(\u001b[0m\u001b[4;94mhttps://www.playlistnames.org/best-music-playlists-for-parties/\u001b[0m\u001b[4;94m)\u001b[0m\n",
              "Are you ready to turn your next gathering into an unforgettable bash? 🎊 The right music can elevate any party, \n",
              "transforming it from a simple get-together into a full-blown celebration! In this article, we've curated a list of \n",
              "\u001b[1;36m50\u001b[0m best music playlists for parties that will keep your guests dancing all night long.\n",
              "\n",
              "|Best Party Songs That Always Get People Dancing \u001b[1;36m2025\u001b[0m\u001b[1m]\u001b[0m\u001b[1m(\u001b[0m\u001b[4;94mhttps://yourmusicdepot.com/party-songs/\u001b[0m\u001b[4;94m)\u001b[0m\n",
              "Best Party Songs | Read up for the ultimate way to create a party playlist! Song lists added to help you find all \n",
              "the best party songs.\n",
              "\n",
              "|All Party Songs - Ultimate Party Playlist - Trending Dance Hits & DJ \n",
              "\u001b[33m...\u001b[0m\u001b[1m]\u001b[0m\u001b[1m(\u001b[0m\u001b[4;94mhttps://music.youtube.com/playlist?\u001b[0m\u001b[4;94mlist\u001b[0m\u001b[4;94m=\u001b[0m\u001b[4;94mPLQE6y9QWblgiirh_lX\u001b[0m\u001b[4;94m-uX0r_QznKRyIEu\u001b[0m\u001b[4;94m)\u001b[0m\n",
              "Get ready to groove with the ultimate collection of party songs, DJ tracks, and New Year anthems! Featuring \n",
              "trending hits, viral remixes, and high-energy beats, this playlist is perfect for New Year celebrations, dance \n",
              "parties, and festivals.From international chart-toppers to Bollywood DJ tracks and EDM bangers, this collection has\n",
              "everything you need to keep the vibes alive. Dance to the \u001b[33m...\u001b[0m\n",
              "\n",
              "|The Ultimate Playlist to Get the Party Started\u001b[1m]\u001b[0m\u001b[1m(\u001b[0m\u001b[4;94mhttps://alekasgettogether.com/top-songs-for-any-party/\u001b[0m\u001b[4;94m)\u001b[0m\n",
              "Discover the ultimate party playlist for \u001b[1;36m2025\u001b[0m with over \u001b[1;36m50\u001b[0m top songs to keep your guests dancing all night long.\n",
              "\n",
              "|The Best Party Songs of All Time \u001b[1m(\u001b[0mOur Playlists\u001b[1m)\u001b[0m\u001b[1m]\u001b[0m\u001b[1m(\u001b[0m\u001b[4;94mhttps://www.ispytunes.com/post/best-party-songs\u001b[0m\u001b[4;94m)\u001b[0m\n",
              "Discover the best party songs to make your event unforgettable! We have the top party songs, from timeless classics\n",
              "to the latest hits.\n"
            ],
            "text/html": [
              "<pre style=\"white-space:pre;overflow-x:auto;line-height:normal;font-family:Menlo,'DejaVu Sans Mono',consolas,'Courier New',monospace\">Observations: ## Search Results\n",
              "\n",
              "|The <span style=\"color: #008080; text-decoration-color: #008080; font-weight: bold\">75</span> Best Party Songs That Will Get Everyone Dancing<span style=\"font-weight: bold\">](</span><span style=\"color: #0000ff; text-decoration-color: #0000ff; text-decoration: underline\">https://www.gear4music.com/blog/best-party-songs/)</span>\n",
              "So, to keep things simple, we've compiled the best party songs of all time, from timeless classics to contemporary \n",
              "hits, giving you a diverse, family-friendly playlist that guarantees to bring a great vibe to your gathering.\n",
              "\n",
              "|<span style=\"color: #008080; text-decoration-color: #008080; font-weight: bold\">50</span> Dance Party Songs to Get People on Their Feet - \n",
              "LoveToKnow<span style=\"font-weight: bold\">](</span><span style=\"color: #0000ff; text-decoration-color: #0000ff; text-decoration: underline\">https://www.lovetoknow.com/celebrations/parties/dance-party-song)</span>\n",
              "The perfect dance party song will get the whole crowd going. Play any of these songs that will turn up the party \n",
              "and get people dancing.\n",
              "\n",
              "|<span style=\"color: #008080; text-decoration-color: #008080; font-weight: bold\">40</span> Best Party Songs | Songs To Dance To, Ranked By Our Editors - Time \n",
              "Out<span style=\"font-weight: bold\">](</span><span style=\"color: #0000ff; text-decoration-color: #0000ff; text-decoration: underline\">https://www.timeout.com/music/best-party-songs)</span>\n",
              "Looking for dance songs? We've got you covered. From Britney Spears to Diana Ross, Charli XCX to Peggy Gou, here \n",
              "are the best party songs ever written.\n",
              "\n",
              "|Best Songs To Party: DJ's Ultimate Party Songs Playlist<span style=\"font-weight: bold\">](</span><span style=\"color: #0000ff; text-decoration-color: #0000ff; text-decoration: underline\">https://top40weekly.com/best-songs-to-party/)</span>\n",
              "Best Songs To Party: DJ's Ultimate Party Songs Playlist If you're looking for the ultimate playlist to get your \n",
              "party started, look no further than this best party songs playlist. Whether you're hosting a birthday bash, a \n",
              "backyard barbecue, or just a night in with friends, the right music can make all the difference.\n",
              "\n",
              "|<span style=\"color: #008080; text-decoration-color: #008080; font-weight: bold\">100</span> Best Party Songs: The Ultimate Party Playlist - Audio Captain<span style=\"font-weight: bold\">](</span><span style=\"color: #0000ff; text-decoration-color: #0000ff; text-decoration: underline\">https://audiocaptain.com/best-party-songs/)</span>\n",
              "Best Party Songs: The Ultimate Party Playlist. Here's the <span style=\"color: #008080; text-decoration-color: #008080; font-weight: bold\">100</span> best party songs of all time you can use to create \n",
              "your ultimate party playlist in <span style=\"color: #008080; text-decoration-color: #008080; font-weight: bold\">2025</span>.\n",
              "\n",
              "|The <span style=\"color: #008080; text-decoration-color: #008080; font-weight: bold\">50</span> Best Music Playlists for Parties |<span style=\"color: #008080; text-decoration-color: #008080; font-weight: bold\">2025</span><span style=\"font-weight: bold\">]</span> - Playlist \n",
              "Names<span style=\"font-weight: bold\">](</span><span style=\"color: #0000ff; text-decoration-color: #0000ff; text-decoration: underline\">https://www.playlistnames.org/best-music-playlists-for-parties/)</span>\n",
              "Are you ready to turn your next gathering into an unforgettable bash? 🎊 The right music can elevate any party, \n",
              "transforming it from a simple get-together into a full-blown celebration! In this article, we've curated a list of \n",
              "<span style=\"color: #008080; text-decoration-color: #008080; font-weight: bold\">50</span> best music playlists for parties that will keep your guests dancing all night long.\n",
              "\n",
              "|Best Party Songs That Always Get People Dancing <span style=\"color: #008080; text-decoration-color: #008080; font-weight: bold\">2025</span><span style=\"font-weight: bold\">](</span><span style=\"color: #0000ff; text-decoration-color: #0000ff; text-decoration: underline\">https://yourmusicdepot.com/party-songs/)</span>\n",
              "Best Party Songs | Read up for the ultimate way to create a party playlist! Song lists added to help you find all \n",
              "the best party songs.\n",
              "\n",
              "|All Party Songs - Ultimate Party Playlist - Trending Dance Hits &amp; DJ \n",
              "<span style=\"color: #808000; text-decoration-color: #808000\">...</span><span style=\"font-weight: bold\">](</span><span style=\"color: #0000ff; text-decoration-color: #0000ff; text-decoration: underline\">https://music.youtube.com/playlist?list=PLQE6y9QWblgiirh_lX-uX0r_QznKRyIEu)</span>\n",
              "Get ready to groove with the ultimate collection of party songs, DJ tracks, and New Year anthems! Featuring \n",
              "trending hits, viral remixes, and high-energy beats, this playlist is perfect for New Year celebrations, dance \n",
              "parties, and festivals.From international chart-toppers to Bollywood DJ tracks and EDM bangers, this collection has\n",
              "everything you need to keep the vibes alive. Dance to the <span style=\"color: #808000; text-decoration-color: #808000\">...</span>\n",
              "\n",
              "|The Ultimate Playlist to Get the Party Started<span style=\"font-weight: bold\">](</span><span style=\"color: #0000ff; text-decoration-color: #0000ff; text-decoration: underline\">https://alekasgettogether.com/top-songs-for-any-party/)</span>\n",
              "Discover the ultimate party playlist for <span style=\"color: #008080; text-decoration-color: #008080; font-weight: bold\">2025</span> with over <span style=\"color: #008080; text-decoration-color: #008080; font-weight: bold\">50</span> top songs to keep your guests dancing all night long.\n",
              "\n",
              "|The Best Party Songs of All Time <span style=\"font-weight: bold\">(</span>Our Playlists<span style=\"font-weight: bold\">)](</span><span style=\"color: #0000ff; text-decoration-color: #0000ff; text-decoration: underline\">https://www.ispytunes.com/post/best-party-songs)</span>\n",
              "Discover the best party songs to make your event unforgettable! We have the top party songs, from timeless classics\n",
              "to the latest hits.\n",
              "</pre>\n"
            ]
          },
          "metadata": {}
        },
        {
          "output_type": "display_data",
          "data": {
            "text/plain": [
              "\u001b[2m[Step 3: Duration 2.28 seconds| Input tokens: 4,562 | Output tokens: 79]\u001b[0m\n"
            ],
            "text/html": [
              "<pre style=\"white-space:pre;overflow-x:auto;line-height:normal;font-family:Menlo,'DejaVu Sans Mono',consolas,'Courier New',monospace\"><span style=\"color: #7f7f7f; text-decoration-color: #7f7f7f\">[Step 3: Duration 2.28 seconds| Input tokens: 4,562 | Output tokens: 79]</span>\n",
              "</pre>\n"
            ]
          },
          "metadata": {}
        },
        {
          "output_type": "display_data",
          "data": {
            "text/plain": [
              "\u001b[38;2;212;183;2m━━━━━━━━━━━━━━━━━━━━━━━━━━━━━━━━━━━━━━━━━━━━━━━━━━━━━ \u001b[0m\u001b[1mStep \u001b[0m\u001b[1;36m4\u001b[0m\u001b[38;2;212;183;2m ━━━━━━━━━━━━━━━━━━━━━━━━━━━━━━━━━━━━━━━━━━━━━━━━━━━━━━\u001b[0m\n"
            ],
            "text/html": [
              "<pre style=\"white-space:pre;overflow-x:auto;line-height:normal;font-family:Menlo,'DejaVu Sans Mono',consolas,'Courier New',monospace\"><span style=\"color: #d4b702; text-decoration-color: #d4b702\">━━━━━━━━━━━━━━━━━━━━━━━━━━━━━━━━━━━━━━━━━━━━━━━━━━━━━ </span><span style=\"font-weight: bold\">Step </span><span style=\"color: #008080; text-decoration-color: #008080; font-weight: bold\">4</span><span style=\"color: #d4b702; text-decoration-color: #d4b702\"> ━━━━━━━━━━━━━━━━━━━━━━━━━━━━━━━━━━━━━━━━━━━━━━━━━━━━━━</span>\n",
              "</pre>\n"
            ]
          },
          "metadata": {}
        },
        {
          "output_type": "display_data",
          "data": {
            "text/plain": [
              "╭─────────────────────────────────────────────────────────────────────────────────────────────────────────────────╮\n",
              "│ Calling tool: 'final_answer' with arguments: {'answer': \"Based on the search results, here are some recommended │\n",
              "│ party songs for Wayne's mansion party: 'I Gotta Feeling' by The Black Eyed Peas, 'Don't Stop Believin'' by      │\n",
              "│ Journey, 'Uptown Funk' by Mark Ronson & Bruno Mars, 'Shape of You' by Ed Sheeran, 'Billie Jean' by Michael      │\n",
              "│ Jackson, 'YMCA' by The Village People, 'Night Fever' by Bee Gees, 'Dancing Queen' by ABBA, 'Happy' by Pharrell  │\n",
              "│ Williams, and 'Let's Dance' by David Bowie. These songs are sure to get everyone in the mood to dance and have  │\n",
              "│ a great time.\"}                                                                                                 │\n",
              "╰─────────────────────────────────────────────────────────────────────────────────────────────────────────────────╯\n"
            ],
            "text/html": [
              "<pre style=\"white-space:pre;overflow-x:auto;line-height:normal;font-family:Menlo,'DejaVu Sans Mono',consolas,'Courier New',monospace\">╭─────────────────────────────────────────────────────────────────────────────────────────────────────────────────╮\n",
              "│ Calling tool: 'final_answer' with arguments: {'answer': \"Based on the search results, here are some recommended │\n",
              "│ party songs for Wayne's mansion party: 'I Gotta Feeling' by The Black Eyed Peas, 'Don't Stop Believin'' by      │\n",
              "│ Journey, 'Uptown Funk' by Mark Ronson &amp; Bruno Mars, 'Shape of You' by Ed Sheeran, 'Billie Jean' by Michael      │\n",
              "│ Jackson, 'YMCA' by The Village People, 'Night Fever' by Bee Gees, 'Dancing Queen' by ABBA, 'Happy' by Pharrell  │\n",
              "│ Williams, and 'Let's Dance' by David Bowie. These songs are sure to get everyone in the mood to dance and have  │\n",
              "│ a great time.\"}                                                                                                 │\n",
              "╰─────────────────────────────────────────────────────────────────────────────────────────────────────────────────╯\n",
              "</pre>\n"
            ]
          },
          "metadata": {}
        },
        {
          "output_type": "display_data",
          "data": {
            "text/plain": [
              "\u001b[1;38;2;212;183;2mFinal answer: Based on the search results, here are some recommended party songs for Wayne's mansion party: 'I \u001b[0m\n",
              "\u001b[1;38;2;212;183;2mGotta Feeling' by The Black Eyed Peas, 'Don't Stop Believin'' by Journey, 'Uptown Funk' by Mark Ronson & Bruno \u001b[0m\n",
              "\u001b[1;38;2;212;183;2mMars, 'Shape of You' by Ed Sheeran, 'Billie Jean' by Michael Jackson, 'YMCA' by The Village People, 'Night Fever' \u001b[0m\n",
              "\u001b[1;38;2;212;183;2mby Bee Gees, 'Dancing Queen' by ABBA, 'Happy' by Pharrell Williams, and 'Let's Dance' by David Bowie. These songs \u001b[0m\n",
              "\u001b[1;38;2;212;183;2mare sure to get everyone in the mood to dance and have a great time.\u001b[0m\n"
            ],
            "text/html": [
              "<pre style=\"white-space:pre;overflow-x:auto;line-height:normal;font-family:Menlo,'DejaVu Sans Mono',consolas,'Courier New',monospace\"><span style=\"color: #d4b702; text-decoration-color: #d4b702; font-weight: bold\">Final answer: Based on the search results, here are some recommended party songs for Wayne's mansion party: 'I </span>\n",
              "<span style=\"color: #d4b702; text-decoration-color: #d4b702; font-weight: bold\">Gotta Feeling' by The Black Eyed Peas, 'Don't Stop Believin'' by Journey, 'Uptown Funk' by Mark Ronson &amp; Bruno </span>\n",
              "<span style=\"color: #d4b702; text-decoration-color: #d4b702; font-weight: bold\">Mars, 'Shape of You' by Ed Sheeran, 'Billie Jean' by Michael Jackson, 'YMCA' by The Village People, 'Night Fever' </span>\n",
              "<span style=\"color: #d4b702; text-decoration-color: #d4b702; font-weight: bold\">by Bee Gees, 'Dancing Queen' by ABBA, 'Happy' by Pharrell Williams, and 'Let's Dance' by David Bowie. These songs </span>\n",
              "<span style=\"color: #d4b702; text-decoration-color: #d4b702; font-weight: bold\">are sure to get everyone in the mood to dance and have a great time.</span>\n",
              "</pre>\n"
            ]
          },
          "metadata": {}
        },
        {
          "output_type": "display_data",
          "data": {
            "text/plain": [
              "\u001b[2m[Step 4: Duration 2.83 seconds| Input tokens: 7,621 | Output tokens: 237]\u001b[0m\n"
            ],
            "text/html": [
              "<pre style=\"white-space:pre;overflow-x:auto;line-height:normal;font-family:Menlo,'DejaVu Sans Mono',consolas,'Courier New',monospace\"><span style=\"color: #7f7f7f; text-decoration-color: #7f7f7f\">[Step 4: Duration 2.83 seconds| Input tokens: 7,621 | Output tokens: 237]</span>\n",
              "</pre>\n"
            ]
          },
          "metadata": {}
        },
        {
          "output_type": "execute_result",
          "data": {
            "text/plain": [
              "\"Based on the search results, here are some recommended party songs for Wayne's mansion party: 'I Gotta Feeling' by The Black Eyed Peas, 'Don't Stop Believin'' by Journey, 'Uptown Funk' by Mark Ronson & Bruno Mars, 'Shape of You' by Ed Sheeran, 'Billie Jean' by Michael Jackson, 'YMCA' by The Village People, 'Night Fever' by Bee Gees, 'Dancing Queen' by ABBA, 'Happy' by Pharrell Williams, and 'Let's Dance' by David Bowie. These songs are sure to get everyone in the mood to dance and have a great time.\""
            ],
            "application/vnd.google.colaboratory.intrinsic+json": {
              "type": "string"
            }
          },
          "metadata": {},
          "execution_count": 7
        }
      ],
      "source": [
        "from smolagents import ToolCallingAgent, DuckDuckGoSearchTool, InferenceClientModel\n",
        "\n",
        "agent = ToolCallingAgent(tools=[DuckDuckGoSearchTool()], model=InferenceClientModel())\n",
        "\n",
        "agent.run(\"Search for the best music recommendations for a party at the Wayne's mansion.\")"
      ]
    },
    {
      "cell_type": "markdown",
      "metadata": {
        "id": "Cl19VWGRYXrr"
      },
      "source": [
        "\n",
        "When you examine the agent's trace, instead of seeing `Executing parsed code:`, you'll see something like:\n",
        "\n",
        "```text\n",
        "╭─────────────────────────────────────────────────────────────────────────────────────────────────────────────────╮\n",
        "│ Calling tool: 'web_search' with arguments: {'query': \"best music recommendations for a party at Wayne's         │\n",
        "│ mansion\"}                                                                                                       │\n",
        "╰─────────────────────────────────────────────────────────────────────────────────────────────────────────────────╯\n",
        "```  \n",
        "\n",
        "The agent generates a structured tool call that the system processes to produce the output, rather than directly executing code like a `CodeAgent`.\n",
        "\n",
        "Now that we understand both agent types, we can choose the right one for our needs. Let's continue exploring `smolagents` to make Alfred's party a success! 🎉"
      ]
    },
    {
      "cell_type": "code",
      "metadata": {
        "colab": {
          "base_uri": "https://localhost:8080/"
        },
        "id": "59443ae8",
        "outputId": "32c56421-2075-4b45-822b-b14c5def8288"
      },
      "source": [
        "!pip install duckduckgo-search -U"
      ],
      "execution_count": 5,
      "outputs": [
        {
          "output_type": "stream",
          "name": "stdout",
          "text": [
            "Collecting duckduckgo-search\n",
            "  Downloading duckduckgo_search-8.0.4-py3-none-any.whl.metadata (16 kB)\n",
            "Requirement already satisfied: click>=8.1.8 in /usr/local/lib/python3.11/dist-packages (from duckduckgo-search) (8.2.1)\n",
            "Collecting primp>=0.15.0 (from duckduckgo-search)\n",
            "  Downloading primp-0.15.0-cp38-abi3-manylinux_2_17_x86_64.manylinux2014_x86_64.whl.metadata (13 kB)\n",
            "Requirement already satisfied: lxml>=5.3.0 in /usr/local/lib/python3.11/dist-packages (from duckduckgo-search) (5.4.0)\n",
            "Downloading duckduckgo_search-8.0.4-py3-none-any.whl (18 kB)\n",
            "Downloading primp-0.15.0-cp38-abi3-manylinux_2_17_x86_64.manylinux2014_x86_64.whl (3.3 MB)\n",
            "\u001b[2K   \u001b[90m━━━━━━━━━━━━━━━━━━━━━━━━━━━━━━━━━━━━━━━━\u001b[0m \u001b[32m3.3/3.3 MB\u001b[0m \u001b[31m54.1 MB/s\u001b[0m eta \u001b[36m0:00:00\u001b[0m\n",
            "\u001b[?25hInstalling collected packages: primp, duckduckgo-search\n",
            "Successfully installed duckduckgo-search-8.0.4 primp-0.15.0\n"
          ]
        }
      ]
    }
  ],
  "metadata": {
    "colab": {
      "provenance": [],
      "include_colab_link": true
    },
    "kernelspec": {
      "display_name": "Python 3",
      "name": "python3"
    },
    "language_info": {
      "name": "python"
    },
    "widgets": {
      "application/vnd.jupyter.widget-state+json": {
        "5c52930e835e4834837949fdf03548df": {
          "model_module": "@jupyter-widgets/controls",
          "model_name": "VBoxModel",
          "model_module_version": "1.5.0",
          "state": {
            "_dom_classes": [],
            "_model_module": "@jupyter-widgets/controls",
            "_model_module_version": "1.5.0",
            "_model_name": "VBoxModel",
            "_view_count": null,
            "_view_module": "@jupyter-widgets/controls",
            "_view_module_version": "1.5.0",
            "_view_name": "VBoxView",
            "box_style": "",
            "children": [],
            "layout": "IPY_MODEL_8f5835529db4472396d5e3ebf6965e7d"
          }
        },
        "1a5e499773e549ca8e87ff0fb5ff5d70": {
          "model_module": "@jupyter-widgets/controls",
          "model_name": "HTMLModel",
          "model_module_version": "1.5.0",
          "state": {
            "_dom_classes": [],
            "_model_module": "@jupyter-widgets/controls",
            "_model_module_version": "1.5.0",
            "_model_name": "HTMLModel",
            "_view_count": null,
            "_view_module": "@jupyter-widgets/controls",
            "_view_module_version": "1.5.0",
            "_view_name": "HTMLView",
            "description": "",
            "description_tooltip": null,
            "layout": "IPY_MODEL_c31433287a9348d48fb00790647b6e27",
            "placeholder": "​",
            "style": "IPY_MODEL_f4004075082648fc8a81e5ebd94c34dc",
            "value": "<center> <img\nsrc=https://huggingface.co/front/assets/huggingface_logo-noborder.svg\nalt='Hugging Face'> <br> Copy a token from <a\nhref=\"https://huggingface.co/settings/tokens\" target=\"_blank\">your Hugging Face\ntokens page</a> and paste it below. <br> Immediately click login after copying\nyour token or it might be stored in plain text in this notebook file. </center>"
          }
        },
        "b20626357b2744e9a2eb070176557f1a": {
          "model_module": "@jupyter-widgets/controls",
          "model_name": "PasswordModel",
          "model_module_version": "1.5.0",
          "state": {
            "_dom_classes": [],
            "_model_module": "@jupyter-widgets/controls",
            "_model_module_version": "1.5.0",
            "_model_name": "PasswordModel",
            "_view_count": null,
            "_view_module": "@jupyter-widgets/controls",
            "_view_module_version": "1.5.0",
            "_view_name": "PasswordView",
            "continuous_update": true,
            "description": "Token:",
            "description_tooltip": null,
            "disabled": false,
            "layout": "IPY_MODEL_e8d0f14d9bb844de8b3c9a80d2d241e9",
            "placeholder": "​",
            "style": "IPY_MODEL_f0a027eba8b440b0aee6f985d8785ad4",
            "value": ""
          }
        },
        "036f7f72f9d44a69ac40ea36ec8cf11f": {
          "model_module": "@jupyter-widgets/controls",
          "model_name": "CheckboxModel",
          "model_module_version": "1.5.0",
          "state": {
            "_dom_classes": [],
            "_model_module": "@jupyter-widgets/controls",
            "_model_module_version": "1.5.0",
            "_model_name": "CheckboxModel",
            "_view_count": null,
            "_view_module": "@jupyter-widgets/controls",
            "_view_module_version": "1.5.0",
            "_view_name": "CheckboxView",
            "description": "Add token as git credential?",
            "description_tooltip": null,
            "disabled": false,
            "indent": true,
            "layout": "IPY_MODEL_3b63a862f46041288dcc5bf1be733491",
            "style": "IPY_MODEL_b0dcaee938b244efaf6419f12696b987",
            "value": true
          }
        },
        "3a2fd583b513450c81a6aa144572fd41": {
          "model_module": "@jupyter-widgets/controls",
          "model_name": "ButtonModel",
          "model_module_version": "1.5.0",
          "state": {
            "_dom_classes": [],
            "_model_module": "@jupyter-widgets/controls",
            "_model_module_version": "1.5.0",
            "_model_name": "ButtonModel",
            "_view_count": null,
            "_view_module": "@jupyter-widgets/controls",
            "_view_module_version": "1.5.0",
            "_view_name": "ButtonView",
            "button_style": "",
            "description": "Login",
            "disabled": false,
            "icon": "",
            "layout": "IPY_MODEL_b5c96d523d484cc8b6d63630ee9bce0e",
            "style": "IPY_MODEL_691abc1a3c874caeb8e3cc821edca4e7",
            "tooltip": ""
          }
        },
        "582d736730b24013967bf701f016dfc1": {
          "model_module": "@jupyter-widgets/controls",
          "model_name": "HTMLModel",
          "model_module_version": "1.5.0",
          "state": {
            "_dom_classes": [],
            "_model_module": "@jupyter-widgets/controls",
            "_model_module_version": "1.5.0",
            "_model_name": "HTMLModel",
            "_view_count": null,
            "_view_module": "@jupyter-widgets/controls",
            "_view_module_version": "1.5.0",
            "_view_name": "HTMLView",
            "description": "",
            "description_tooltip": null,
            "layout": "IPY_MODEL_c284fb0bb1ab45ecb6d9be39283fff98",
            "placeholder": "​",
            "style": "IPY_MODEL_33e94ba54bc047f09bc38bdc3a09e10f",
            "value": "\n<b>Pro Tip:</b> If you don't already have one, you can create a dedicated\n'notebooks' token with 'write' access, that you can then easily reuse for all\nnotebooks. </center>"
          }
        },
        "8f5835529db4472396d5e3ebf6965e7d": {
          "model_module": "@jupyter-widgets/base",
          "model_name": "LayoutModel",
          "model_module_version": "1.2.0",
          "state": {
            "_model_module": "@jupyter-widgets/base",
            "_model_module_version": "1.2.0",
            "_model_name": "LayoutModel",
            "_view_count": null,
            "_view_module": "@jupyter-widgets/base",
            "_view_module_version": "1.2.0",
            "_view_name": "LayoutView",
            "align_content": null,
            "align_items": "center",
            "align_self": null,
            "border": null,
            "bottom": null,
            "display": "flex",
            "flex": null,
            "flex_flow": "column",
            "grid_area": null,
            "grid_auto_columns": null,
            "grid_auto_flow": null,
            "grid_auto_rows": null,
            "grid_column": null,
            "grid_gap": null,
            "grid_row": null,
            "grid_template_areas": null,
            "grid_template_columns": null,
            "grid_template_rows": null,
            "height": null,
            "justify_content": null,
            "justify_items": null,
            "left": null,
            "margin": null,
            "max_height": null,
            "max_width": null,
            "min_height": null,
            "min_width": null,
            "object_fit": null,
            "object_position": null,
            "order": null,
            "overflow": null,
            "overflow_x": null,
            "overflow_y": null,
            "padding": null,
            "right": null,
            "top": null,
            "visibility": null,
            "width": "50%"
          }
        },
        "c31433287a9348d48fb00790647b6e27": {
          "model_module": "@jupyter-widgets/base",
          "model_name": "LayoutModel",
          "model_module_version": "1.2.0",
          "state": {
            "_model_module": "@jupyter-widgets/base",
            "_model_module_version": "1.2.0",
            "_model_name": "LayoutModel",
            "_view_count": null,
            "_view_module": "@jupyter-widgets/base",
            "_view_module_version": "1.2.0",
            "_view_name": "LayoutView",
            "align_content": null,
            "align_items": null,
            "align_self": null,
            "border": null,
            "bottom": null,
            "display": null,
            "flex": null,
            "flex_flow": null,
            "grid_area": null,
            "grid_auto_columns": null,
            "grid_auto_flow": null,
            "grid_auto_rows": null,
            "grid_column": null,
            "grid_gap": null,
            "grid_row": null,
            "grid_template_areas": null,
            "grid_template_columns": null,
            "grid_template_rows": null,
            "height": null,
            "justify_content": null,
            "justify_items": null,
            "left": null,
            "margin": null,
            "max_height": null,
            "max_width": null,
            "min_height": null,
            "min_width": null,
            "object_fit": null,
            "object_position": null,
            "order": null,
            "overflow": null,
            "overflow_x": null,
            "overflow_y": null,
            "padding": null,
            "right": null,
            "top": null,
            "visibility": null,
            "width": null
          }
        },
        "f4004075082648fc8a81e5ebd94c34dc": {
          "model_module": "@jupyter-widgets/controls",
          "model_name": "DescriptionStyleModel",
          "model_module_version": "1.5.0",
          "state": {
            "_model_module": "@jupyter-widgets/controls",
            "_model_module_version": "1.5.0",
            "_model_name": "DescriptionStyleModel",
            "_view_count": null,
            "_view_module": "@jupyter-widgets/base",
            "_view_module_version": "1.2.0",
            "_view_name": "StyleView",
            "description_width": ""
          }
        },
        "e8d0f14d9bb844de8b3c9a80d2d241e9": {
          "model_module": "@jupyter-widgets/base",
          "model_name": "LayoutModel",
          "model_module_version": "1.2.0",
          "state": {
            "_model_module": "@jupyter-widgets/base",
            "_model_module_version": "1.2.0",
            "_model_name": "LayoutModel",
            "_view_count": null,
            "_view_module": "@jupyter-widgets/base",
            "_view_module_version": "1.2.0",
            "_view_name": "LayoutView",
            "align_content": null,
            "align_items": null,
            "align_self": null,
            "border": null,
            "bottom": null,
            "display": null,
            "flex": null,
            "flex_flow": null,
            "grid_area": null,
            "grid_auto_columns": null,
            "grid_auto_flow": null,
            "grid_auto_rows": null,
            "grid_column": null,
            "grid_gap": null,
            "grid_row": null,
            "grid_template_areas": null,
            "grid_template_columns": null,
            "grid_template_rows": null,
            "height": null,
            "justify_content": null,
            "justify_items": null,
            "left": null,
            "margin": null,
            "max_height": null,
            "max_width": null,
            "min_height": null,
            "min_width": null,
            "object_fit": null,
            "object_position": null,
            "order": null,
            "overflow": null,
            "overflow_x": null,
            "overflow_y": null,
            "padding": null,
            "right": null,
            "top": null,
            "visibility": null,
            "width": null
          }
        },
        "f0a027eba8b440b0aee6f985d8785ad4": {
          "model_module": "@jupyter-widgets/controls",
          "model_name": "DescriptionStyleModel",
          "model_module_version": "1.5.0",
          "state": {
            "_model_module": "@jupyter-widgets/controls",
            "_model_module_version": "1.5.0",
            "_model_name": "DescriptionStyleModel",
            "_view_count": null,
            "_view_module": "@jupyter-widgets/base",
            "_view_module_version": "1.2.0",
            "_view_name": "StyleView",
            "description_width": ""
          }
        },
        "3b63a862f46041288dcc5bf1be733491": {
          "model_module": "@jupyter-widgets/base",
          "model_name": "LayoutModel",
          "model_module_version": "1.2.0",
          "state": {
            "_model_module": "@jupyter-widgets/base",
            "_model_module_version": "1.2.0",
            "_model_name": "LayoutModel",
            "_view_count": null,
            "_view_module": "@jupyter-widgets/base",
            "_view_module_version": "1.2.0",
            "_view_name": "LayoutView",
            "align_content": null,
            "align_items": null,
            "align_self": null,
            "border": null,
            "bottom": null,
            "display": null,
            "flex": null,
            "flex_flow": null,
            "grid_area": null,
            "grid_auto_columns": null,
            "grid_auto_flow": null,
            "grid_auto_rows": null,
            "grid_column": null,
            "grid_gap": null,
            "grid_row": null,
            "grid_template_areas": null,
            "grid_template_columns": null,
            "grid_template_rows": null,
            "height": null,
            "justify_content": null,
            "justify_items": null,
            "left": null,
            "margin": null,
            "max_height": null,
            "max_width": null,
            "min_height": null,
            "min_width": null,
            "object_fit": null,
            "object_position": null,
            "order": null,
            "overflow": null,
            "overflow_x": null,
            "overflow_y": null,
            "padding": null,
            "right": null,
            "top": null,
            "visibility": null,
            "width": null
          }
        },
        "b0dcaee938b244efaf6419f12696b987": {
          "model_module": "@jupyter-widgets/controls",
          "model_name": "DescriptionStyleModel",
          "model_module_version": "1.5.0",
          "state": {
            "_model_module": "@jupyter-widgets/controls",
            "_model_module_version": "1.5.0",
            "_model_name": "DescriptionStyleModel",
            "_view_count": null,
            "_view_module": "@jupyter-widgets/base",
            "_view_module_version": "1.2.0",
            "_view_name": "StyleView",
            "description_width": ""
          }
        },
        "b5c96d523d484cc8b6d63630ee9bce0e": {
          "model_module": "@jupyter-widgets/base",
          "model_name": "LayoutModel",
          "model_module_version": "1.2.0",
          "state": {
            "_model_module": "@jupyter-widgets/base",
            "_model_module_version": "1.2.0",
            "_model_name": "LayoutModel",
            "_view_count": null,
            "_view_module": "@jupyter-widgets/base",
            "_view_module_version": "1.2.0",
            "_view_name": "LayoutView",
            "align_content": null,
            "align_items": null,
            "align_self": null,
            "border": null,
            "bottom": null,
            "display": null,
            "flex": null,
            "flex_flow": null,
            "grid_area": null,
            "grid_auto_columns": null,
            "grid_auto_flow": null,
            "grid_auto_rows": null,
            "grid_column": null,
            "grid_gap": null,
            "grid_row": null,
            "grid_template_areas": null,
            "grid_template_columns": null,
            "grid_template_rows": null,
            "height": null,
            "justify_content": null,
            "justify_items": null,
            "left": null,
            "margin": null,
            "max_height": null,
            "max_width": null,
            "min_height": null,
            "min_width": null,
            "object_fit": null,
            "object_position": null,
            "order": null,
            "overflow": null,
            "overflow_x": null,
            "overflow_y": null,
            "padding": null,
            "right": null,
            "top": null,
            "visibility": null,
            "width": null
          }
        },
        "691abc1a3c874caeb8e3cc821edca4e7": {
          "model_module": "@jupyter-widgets/controls",
          "model_name": "ButtonStyleModel",
          "model_module_version": "1.5.0",
          "state": {
            "_model_module": "@jupyter-widgets/controls",
            "_model_module_version": "1.5.0",
            "_model_name": "ButtonStyleModel",
            "_view_count": null,
            "_view_module": "@jupyter-widgets/base",
            "_view_module_version": "1.2.0",
            "_view_name": "StyleView",
            "button_color": null,
            "font_weight": ""
          }
        },
        "c284fb0bb1ab45ecb6d9be39283fff98": {
          "model_module": "@jupyter-widgets/base",
          "model_name": "LayoutModel",
          "model_module_version": "1.2.0",
          "state": {
            "_model_module": "@jupyter-widgets/base",
            "_model_module_version": "1.2.0",
            "_model_name": "LayoutModel",
            "_view_count": null,
            "_view_module": "@jupyter-widgets/base",
            "_view_module_version": "1.2.0",
            "_view_name": "LayoutView",
            "align_content": null,
            "align_items": null,
            "align_self": null,
            "border": null,
            "bottom": null,
            "display": null,
            "flex": null,
            "flex_flow": null,
            "grid_area": null,
            "grid_auto_columns": null,
            "grid_auto_flow": null,
            "grid_auto_rows": null,
            "grid_column": null,
            "grid_gap": null,
            "grid_row": null,
            "grid_template_areas": null,
            "grid_template_columns": null,
            "grid_template_rows": null,
            "height": null,
            "justify_content": null,
            "justify_items": null,
            "left": null,
            "margin": null,
            "max_height": null,
            "max_width": null,
            "min_height": null,
            "min_width": null,
            "object_fit": null,
            "object_position": null,
            "order": null,
            "overflow": null,
            "overflow_x": null,
            "overflow_y": null,
            "padding": null,
            "right": null,
            "top": null,
            "visibility": null,
            "width": null
          }
        },
        "33e94ba54bc047f09bc38bdc3a09e10f": {
          "model_module": "@jupyter-widgets/controls",
          "model_name": "DescriptionStyleModel",
          "model_module_version": "1.5.0",
          "state": {
            "_model_module": "@jupyter-widgets/controls",
            "_model_module_version": "1.5.0",
            "_model_name": "DescriptionStyleModel",
            "_view_count": null,
            "_view_module": "@jupyter-widgets/base",
            "_view_module_version": "1.2.0",
            "_view_name": "StyleView",
            "description_width": ""
          }
        },
        "1b16b2fa319c4cd7bfdfd851d33cdde7": {
          "model_module": "@jupyter-widgets/controls",
          "model_name": "LabelModel",
          "model_module_version": "1.5.0",
          "state": {
            "_dom_classes": [],
            "_model_module": "@jupyter-widgets/controls",
            "_model_module_version": "1.5.0",
            "_model_name": "LabelModel",
            "_view_count": null,
            "_view_module": "@jupyter-widgets/controls",
            "_view_module_version": "1.5.0",
            "_view_name": "LabelView",
            "description": "",
            "description_tooltip": null,
            "layout": "IPY_MODEL_62bb85ed1fc241378853443be9adb05d",
            "placeholder": "​",
            "style": "IPY_MODEL_efeca01f035c4727be91ac0fbafb8b04",
            "value": "Connecting..."
          }
        },
        "62bb85ed1fc241378853443be9adb05d": {
          "model_module": "@jupyter-widgets/base",
          "model_name": "LayoutModel",
          "model_module_version": "1.2.0",
          "state": {
            "_model_module": "@jupyter-widgets/base",
            "_model_module_version": "1.2.0",
            "_model_name": "LayoutModel",
            "_view_count": null,
            "_view_module": "@jupyter-widgets/base",
            "_view_module_version": "1.2.0",
            "_view_name": "LayoutView",
            "align_content": null,
            "align_items": null,
            "align_self": null,
            "border": null,
            "bottom": null,
            "display": null,
            "flex": null,
            "flex_flow": null,
            "grid_area": null,
            "grid_auto_columns": null,
            "grid_auto_flow": null,
            "grid_auto_rows": null,
            "grid_column": null,
            "grid_gap": null,
            "grid_row": null,
            "grid_template_areas": null,
            "grid_template_columns": null,
            "grid_template_rows": null,
            "height": null,
            "justify_content": null,
            "justify_items": null,
            "left": null,
            "margin": null,
            "max_height": null,
            "max_width": null,
            "min_height": null,
            "min_width": null,
            "object_fit": null,
            "object_position": null,
            "order": null,
            "overflow": null,
            "overflow_x": null,
            "overflow_y": null,
            "padding": null,
            "right": null,
            "top": null,
            "visibility": null,
            "width": null
          }
        },
        "efeca01f035c4727be91ac0fbafb8b04": {
          "model_module": "@jupyter-widgets/controls",
          "model_name": "DescriptionStyleModel",
          "model_module_version": "1.5.0",
          "state": {
            "_model_module": "@jupyter-widgets/controls",
            "_model_module_version": "1.5.0",
            "_model_name": "DescriptionStyleModel",
            "_view_count": null,
            "_view_module": "@jupyter-widgets/base",
            "_view_module_version": "1.2.0",
            "_view_name": "StyleView",
            "description_width": ""
          }
        }
      }
    }
  },
  "nbformat": 4,
  "nbformat_minor": 0
}